{
 "cells": [
  {
   "cell_type": "code",
   "execution_count": null,
   "metadata": {},
   "outputs": [],
   "source": []
  },
  {
   "cell_type": "code",
   "execution_count": 1,
   "metadata": {},
   "outputs": [
    {
     "name": "stdout",
     "output_type": "stream",
     "text": [
      "Q 1 ) the biggest mountain of pakistan is:\n",
      "A)K-2\n",
      "B)HIMALAYA\n",
      "C)NANGA PARBAT\n",
      "D)MOUNT EVEREST\n",
      "Enter option :a\n",
      "Your Answer Is Correct\n",
      "Q 2 ) What year was the very first model of iphone released:\n",
      "A)2010\n",
      "B) 2009\n",
      "C)2011\n",
      "D)2007\n",
      "Enter option :d\n",
      "Your Answer Is Correct\n",
      "Q 3 ) Which continent is the largest in the world:\n",
      "A)RUSSIA\n",
      "B)ASIA\n",
      "C)ANTARTICA\n",
      "D)AFRICA\n",
      "Enter option :b\n",
      "Your Answer Is Correct\n",
      "Q 4 ) What is the name of the worlds longest river:\n",
      "A)INDUS RIVER\n",
      "B)JEHLUM\n",
      "C)NILE\n",
      "D)CHENAB\n",
      "Enter option :c\n",
      "Your Answer Is Correct\n",
      "Your Total Quiz Score : 4\n"
     ]
    }
   ],
   "source": [
    "quiz=[\n",
    "    {\n",
    "        \n",
    "        \"Q )\" : \"the biggest mountain of pakistan is:\",\n",
    "        \"OP \" : [\"A)K-2\", \"B)HIMALAYA\", \"C)NANGA PARBAT\", \"D)MOUNT EVEREST\",],\n",
    "        \"ANS\": \"a\"},\n",
    "    {\n",
    "        \"Q )\": \"What year was the very first model of iphone released:\",\n",
    "        \"OP \" : [\"A)2010\", \"B) 2009\", \"C)2011\", \"D)2007\",],\n",
    "        \"ANS\": \"d\"\n",
    "        \n",
    "    },\n",
    "    {\n",
    "        \"Q )\" : \"Which continent is the largest in the world:\",\n",
    "        \"OP \" : [\"A)RUSSIA\", \"B)ASIA\", \"C)ANTARTICA\", \"D)AFRICA\",],\n",
    "        \"ANS\": \"b\"\n",
    "        \n",
    "    },\n",
    "    {\n",
    "        \"Q )\" : \"What is the name of the worlds longest river:\",\n",
    "        \"OP \" : [\"A)INDUS RIVER\", \"B)JEHLUM\", \"C)NILE\", \"D)CHENAB\",],\n",
    "        \"ANS\": \"c\"\n",
    "        \n",
    "    },\n",
    "    \n",
    "    \n",
    "    \n",
    "]\n",
    "mark=0\n",
    "i=0\n",
    "for question in quiz:\n",
    "    print(\"Q\",i+1,\")\",question[\"Q )\"])\n",
    "    print(question[\"OP \"] [0])\n",
    "    print(question[\"OP \"] [1])\n",
    "    print(question[\"OP \"] [2])\n",
    "    print(question[\"OP \"] [3])\n",
    "    ans=input(\"Enter option :\")\n",
    "    i=i+1\n",
    "    \n",
    "    if (ans.lower()==question[\"ANS\"]):\n",
    "        print(\"Your Answer Is Correct\")\n",
    "        mark=mark+1\n",
    "    else:\n",
    "        print(\"Your Answer Is Incorrect\")\n",
    "print(\"Your Total Quiz Score :\",mark)\n",
    "    \n",
    "    \n",
    "        \n",
    "\n"
   ]
  },
  {
   "cell_type": "code",
   "execution_count": null,
   "metadata": {},
   "outputs": [],
   "source": []
  }
 ],
 "metadata": {
  "kernelspec": {
   "display_name": "Python 3",
   "language": "python",
   "name": "python3"
  },
  "language_info": {
   "codemirror_mode": {
    "name": "ipython",
    "version": 3
   },
   "file_extension": ".py",
   "mimetype": "text/x-python",
   "name": "python",
   "nbconvert_exporter": "python",
   "pygments_lexer": "ipython3",
   "version": "3.7.6"
  }
 },
 "nbformat": 4,
 "nbformat_minor": 4
}
